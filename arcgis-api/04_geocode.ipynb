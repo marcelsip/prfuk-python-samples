{
 "cells": [
  {
   "cell_type": "code",
   "execution_count": 41,
   "metadata": {},
   "outputs": [],
   "source": [
    "from arcgis.gis import GIS\n",
    "from arcgis.geocoding import Geocoder, geocode"
   ]
  },
  {
   "cell_type": "code",
   "execution_count": 42,
   "metadata": {},
   "outputs": [],
   "source": [
    "gis = GIS()\n",
    "url = \"http://ags.cuzk.cz/arcgis/rest/services/RUIAN/Vyhledavaci_sluzba_nad_daty_RUIAN/MapServer/exts/GeocodeSOE\"\n",
    "cuzk_geocoder = Geocoder(url, gis)"
   ]
  },
  {
   "cell_type": "code",
   "execution_count": 58,
   "metadata": {},
   "outputs": [
    {
     "data": {
      "text/plain": [
       "[{'address': 'Albertov 2038/6, Nové Město, 12800 Praha 2',\n",
       "  'location': {'x': -742861.75,\n",
       "   'y': -1045091.1700000018,\n",
       "   'spatialReference': {'wkid': 102067, 'latestWkid': 5514}},\n",
       "  'score': 100,\n",
       "  'attributes': {'Addr_type': '',\n",
       "   'Loc_name': '',\n",
       "   'Type': 'AdresniMisto',\n",
       "   'City': '',\n",
       "   'Country': '',\n",
       "   'Xmin': 14.42349110218579,\n",
       "   'Xmax': 14.42549110218579,\n",
       "   'Ymin': 50.06788939757508,\n",
       "   'Ymax': 50.069889397575075,\n",
       "   'Match_addr': 'Albertov 2038/6, Nové Město, 12800 Praha 2',\n",
       "   'Score': 100}}]"
      ]
     },
     "execution_count": 58,
     "metadata": {},
     "output_type": "execute_result"
    }
   ],
   "source": [
    "results = geocode(\"Albertov 6, Praha\", geocoder=cuzk_geocoder)\n",
    "results"
   ]
  },
  {
   "cell_type": "code",
   "execution_count": 44,
   "metadata": {},
   "outputs": [],
   "source": [
    "from arcgis.mapping import WebMap\n",
    "zm_search = gis.content.search(\"Základní mapy 5514\", item_type= \"Web Map\", max_items=1)\n",
    "webmap = WebMap(zm_search[0])"
   ]
  },
  {
   "cell_type": "code",
   "execution_count": 49,
   "metadata": {},
   "outputs": [
    {
     "data": {
      "application/vnd.jupyter.widget-view+json": {
       "model_id": "f041960d458749949641284728761213",
       "version_major": 2,
       "version_minor": 0
      },
      "text/plain": [
       "MapView(layout=Layout(height='400px', width='100%'))"
      ]
     },
     "metadata": {},
     "output_type": "display_data"
    },
    {
     "data": {
      "text/html": [
       "<div class=\"map-static-img-preview-b2d3a757-143c-4029-828c-04358a2b3d58\"><img src=\"\"></img></div>"
      ],
      "text/plain": [
       "<IPython.core.display.HTML object>"
      ]
     },
     "metadata": {},
     "output_type": "display_data"
    }
   ],
   "source": [
    "from arcgis.widgets import MapView\n",
    "map = MapView(gis,webmap)\n",
    "map"
   ]
  },
  {
   "cell_type": "code",
   "execution_count": 57,
   "metadata": {},
   "outputs": [],
   "source": [
    "result = results[0]\n",
    "popup = { \n",
    "    \"title\" : \"Katedra aplikované geoinformatiky a kartografie\", \n",
    "    \"content\" : result['address']\n",
    "    }\n",
    "map.draw(result['location'], popup)\n",
    "map.center = result['location']\n",
    "map.zoom = 14"
   ]
  }
 ],
 "metadata": {
  "kernelspec": {
   "display_name": "Python 3",
   "language": "python",
   "name": "python3"
  },
  "language_info": {
   "codemirror_mode": {
    "name": "ipython",
    "version": 3
   },
   "file_extension": ".py",
   "mimetype": "text/x-python",
   "name": "python",
   "nbconvert_exporter": "python",
   "pygments_lexer": "ipython3",
   "version": "3.6.6"
  }
 },
 "nbformat": 4,
 "nbformat_minor": 2
}
