{
 "cells": [
  {
   "cell_type": "code",
   "execution_count": 1,
   "metadata": {},
   "outputs": [],
   "source": [
    "from arcgis.gis import GIS\n",
    "from arcgis.features import SpatialDataFrame"
   ]
  },
  {
   "cell_type": "code",
   "execution_count": 2,
   "metadata": {},
   "outputs": [],
   "source": [
    "gis = GIS()"
   ]
  },
  {
   "cell_type": "code",
   "execution_count": 31,
   "metadata": {},
   "outputs": [
    {
     "data": {
      "text/plain": [
       "[<Item title:\"Nejbližší SKODA AUTO dealer k OC\" type:Feature Layer Collection owner:ojaksik5>,\n",
       " <Item title:\"Shopping Malls Prague\" type:Feature Layer Collection owner:ojaksik5>]"
      ]
     },
     "execution_count": 31,
     "metadata": {},
     "output_type": "execute_result"
    }
   ],
   "source": [
    "search_results = gis.content.search(\"Shopping Malls Prague\", item_type= \"Feature Layer\", max_items=10)\n",
    "search_results"
   ]
  },
  {
   "cell_type": "code",
   "execution_count": 34,
   "metadata": {},
   "outputs": [
    {
     "data": {
      "text/plain": [
       "<FeatureLayer url:\"http://services.arcgis.com/qiROLxpdxrEizyHD/arcgis/rest/services/vmLeP/FeatureServer/0\">"
      ]
     },
     "execution_count": 34,
     "metadata": {},
     "output_type": "execute_result"
    }
   ],
   "source": [
    "feature_layer = search_results[1].layers[0]\n",
    "feature_layer"
   ]
  },
  {
   "cell_type": "code",
   "execution_count": 35,
   "metadata": {},
   "outputs": [
    {
     "data": {
      "text/html": [
       "<div>\n",
       "<style scoped>\n",
       "    .dataframe tbody tr th:only-of-type {\n",
       "        vertical-align: middle;\n",
       "    }\n",
       "\n",
       "    .dataframe tbody tr th {\n",
       "        vertical-align: top;\n",
       "    }\n",
       "\n",
       "    .dataframe thead th {\n",
       "        text-align: right;\n",
       "    }\n",
       "</style>\n",
       "<table border=\"1\" class=\"dataframe\">\n",
       "  <thead>\n",
       "    <tr style=\"text-align: right;\">\n",
       "      <th></th>\n",
       "      <th>EXCEL_ID</th>\n",
       "      <th>f1</th>\n",
       "      <th>f2</th>\n",
       "      <th>f3</th>\n",
       "      <th>f4</th>\n",
       "      <th>f5</th>\n",
       "      <th>f6</th>\n",
       "      <th>f7</th>\n",
       "      <th>f8</th>\n",
       "      <th>f9</th>\n",
       "      <th>objectId</th>\n",
       "      <th>SHAPE</th>\n",
       "    </tr>\n",
       "  </thead>\n",
       "  <tbody>\n",
       "    <tr>\n",
       "      <th>0</th>\n",
       "      <td>4e8baa24-5223-4c8a-ac9b-c2c47cad6376</td>\n",
       "      <td>Centrum Černý Most</td>\n",
       "      <td>82000</td>\n",
       "      <td>11000000</td>\n",
       "      <td>0.139977</td>\n",
       "      <td>3200</td>\n",
       "      <td>Globus, Decathlon, Marks &amp; Spencer, New Yorker</td>\n",
       "      <td>Chlumecká 765/6, 190 00 Praha</td>\n",
       "      <td>1997</td>\n",
       "      <td>Edge of Town</td>\n",
       "      <td>2</td>\n",
       "      <td>{'x': 1623358.644200001, 'y': 6464959.21790000...</td>\n",
       "    </tr>\n",
       "    <tr>\n",
       "      <th>1</th>\n",
       "      <td>ea91f80d-4938-4bb0-b233-96b7646e3524</td>\n",
       "      <td>OC Letňany</td>\n",
       "      <td>125000</td>\n",
       "      <td>8500000</td>\n",
       "      <td>0.162096</td>\n",
       "      <td>3200</td>\n",
       "      <td>Tesco, Kika, Zara, H&amp;M, Sportsdirect, Interspo...</td>\n",
       "      <td>Veselská 663, 199 00 Praha 18</td>\n",
       "      <td>1999</td>\n",
       "      <td>Edge of Town</td>\n",
       "      <td>3</td>\n",
       "      <td>{'x': 1614286.9690999985, 'y': 6469573.2876000...</td>\n",
       "    </tr>\n",
       "    <tr>\n",
       "      <th>2</th>\n",
       "      <td>d21e67fa-f2f4-4b7a-a3b7-954747a322c7</td>\n",
       "      <td>Centrum Chodov</td>\n",
       "      <td>98600</td>\n",
       "      <td>13000000</td>\n",
       "      <td>0.152767</td>\n",
       "      <td>2667</td>\n",
       "      <td>Albert Hypermarket, H&amp;M, Hervis, C&amp;A, Zara, Li...</td>\n",
       "      <td>Roztylská 2321/19, 148 00 Praha 11</td>\n",
       "      <td>2005</td>\n",
       "      <td>Edge of Town</td>\n",
       "      <td>4</td>\n",
       "      <td>{'x': 1613072.0879999995, 'y': 6451761.6630000...</td>\n",
       "    </tr>\n",
       "    <tr>\n",
       "      <th>3</th>\n",
       "      <td>e566089a-cad9-4d28-8e4e-6aaa316926f9</td>\n",
       "      <td>Metropole Zličín</td>\n",
       "      <td>55000</td>\n",
       "      <td>6800000</td>\n",
       "      <td>0.136893</td>\n",
       "      <td>2000</td>\n",
       "      <td>Albert Hypermarket, Electroworld, Sportisimo, ...</td>\n",
       "      <td>Řevnická 121/1, 155 21 Praha</td>\n",
       "      <td>2002</td>\n",
       "      <td>Edge of Town</td>\n",
       "      <td>5</td>\n",
       "      <td>{'x': 1590546.0731000006, 'y': 6455590.7025000...</td>\n",
       "    </tr>\n",
       "    <tr>\n",
       "      <th>4</th>\n",
       "      <td>c69b8a0e-72c0-4099-86e5-ab2243cfa43e</td>\n",
       "      <td>Nový Smíchov</td>\n",
       "      <td>55000</td>\n",
       "      <td>20300000</td>\n",
       "      <td>0.168794</td>\n",
       "      <td>2000</td>\n",
       "      <td>Tesco, Marks &amp; Spencer, H&amp;M, Zara, Hervis, Dat...</td>\n",
       "      <td>Plzeňská 233/8, 150 00 Praha 5</td>\n",
       "      <td>2001</td>\n",
       "      <td>City Centre</td>\n",
       "      <td>6</td>\n",
       "      <td>{'x': 1603330.0830999983, 'y': 6458750.4016999...</td>\n",
       "    </tr>\n",
       "  </tbody>\n",
       "</table>\n",
       "</div>"
      ],
      "text/plain": [
       "                               EXCEL_ID                  f1      f2        f3  \\\n",
       "0  4e8baa24-5223-4c8a-ac9b-c2c47cad6376  Centrum Černý Most   82000  11000000   \n",
       "1  ea91f80d-4938-4bb0-b233-96b7646e3524          OC Letňany  125000   8500000   \n",
       "2  d21e67fa-f2f4-4b7a-a3b7-954747a322c7      Centrum Chodov   98600  13000000   \n",
       "3  e566089a-cad9-4d28-8e4e-6aaa316926f9    Metropole Zličín   55000   6800000   \n",
       "4  c69b8a0e-72c0-4099-86e5-ab2243cfa43e        Nový Smíchov   55000  20300000   \n",
       "\n",
       "         f4    f5                                                 f6  \\\n",
       "0  0.139977  3200     Globus, Decathlon, Marks & Spencer, New Yorker   \n",
       "1  0.162096  3200  Tesco, Kika, Zara, H&M, Sportsdirect, Interspo...   \n",
       "2  0.152767  2667  Albert Hypermarket, H&M, Hervis, C&A, Zara, Li...   \n",
       "3  0.136893  2000  Albert Hypermarket, Electroworld, Sportisimo, ...   \n",
       "4  0.168794  2000  Tesco, Marks & Spencer, H&M, Zara, Hervis, Dat...   \n",
       "\n",
       "                                   f7    f8            f9  objectId  \\\n",
       "0       Chlumecká 765/6, 190 00 Praha  1997  Edge of Town         2   \n",
       "1       Veselská 663, 199 00 Praha 18  1999  Edge of Town         3   \n",
       "2  Roztylská 2321/19, 148 00 Praha 11  2005  Edge of Town         4   \n",
       "3        Řevnická 121/1, 155 21 Praha  2002  Edge of Town         5   \n",
       "4      Plzeňská 233/8, 150 00 Praha 5  2001   City Centre         6   \n",
       "\n",
       "                                               SHAPE  \n",
       "0  {'x': 1623358.644200001, 'y': 6464959.21790000...  \n",
       "1  {'x': 1614286.9690999985, 'y': 6469573.2876000...  \n",
       "2  {'x': 1613072.0879999995, 'y': 6451761.6630000...  \n",
       "3  {'x': 1590546.0731000006, 'y': 6455590.7025000...  \n",
       "4  {'x': 1603330.0830999983, 'y': 6458750.4016999...  "
      ]
     },
     "execution_count": 35,
     "metadata": {},
     "output_type": "execute_result"
    }
   ],
   "source": [
    "sdf = SpatialDataFrame.from_layer(feature_layer)\n",
    "sdf.head()"
   ]
  },
  {
   "cell_type": "code",
   "execution_count": 37,
   "metadata": {},
   "outputs": [
    {
     "data": {
      "application/vnd.jupyter.widget-view+json": {
       "model_id": "049bb8c7ed5c4616be00359d82dcbc7f",
       "version_major": 2,
       "version_minor": 0
      },
      "text/plain": [
       "MapView(layout=Layout(height='400px', width='100%'))"
      ]
     },
     "metadata": {},
     "output_type": "display_data"
    },
    {
     "data": {
      "text/html": [
       "<div class=\"map-static-img-preview-57f91c8b-e17f-4ece-b88d-9d2c236e96be\"><img src=\"\"></img></div>"
      ],
      "text/plain": [
       "<IPython.core.display.HTML object>"
      ]
     },
     "metadata": {},
     "output_type": "display_data"
    }
   ],
   "source": [
    "map = gis.map(\"Praha\")\n",
    "map"
   ]
  },
  {
   "cell_type": "code",
   "execution_count": 38,
   "metadata": {},
   "outputs": [
    {
     "data": {
      "text/plain": [
       "True"
      ]
     },
     "execution_count": 38,
     "metadata": {},
     "output_type": "execute_result"
    }
   ],
   "source": [
    "sdf.spatial.plot(map_widget= m1)"
   ]
  },
  {
   "cell_type": "code",
   "execution_count": 36,
   "metadata": {},
   "outputs": [
    {
     "data": {
      "text/plain": [
       "True"
      ]
     },
     "execution_count": 36,
     "metadata": {},
     "output_type": "execute_result"
    }
   ],
   "source": [
    "sdf.spatial.plot(map_widget=m1,\n",
    "               renderer_type='c',  # for class breaks renderer\n",
    "               method='esriClassifyNaturalBreaks',  # classification algorithm\n",
    "               class_count=20,  # choose the number of classes\n",
    "               col='f3',  # numeric column to classify\n",
    "               cmap='prism',  # color map to pick colors from for each class\n",
    "               alpha=0.7  # specify opacity\n",
    "               )"
   ]
  },
  {
   "cell_type": "code",
   "execution_count": null,
   "metadata": {},
   "outputs": [],
   "source": []
  }
 ],
 "metadata": {
  "kernelspec": {
   "display_name": "Python 3",
   "language": "python",
   "name": "python3"
  },
  "language_info": {
   "codemirror_mode": {
    "name": "ipython",
    "version": 3
   },
   "file_extension": ".py",
   "mimetype": "text/x-python",
   "name": "python",
   "nbconvert_exporter": "python",
   "pygments_lexer": "ipython3",
   "version": "3.6.6"
  }
 },
 "nbformat": 4,
 "nbformat_minor": 2
}
