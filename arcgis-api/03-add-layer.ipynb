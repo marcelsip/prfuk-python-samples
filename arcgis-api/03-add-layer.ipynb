{
 "cells": [
  {
   "cell_type": "code",
   "execution_count": 40,
   "metadata": {},
   "outputs": [],
   "source": [
    "from arcgis.gis import GIS\n",
    "gis=GIS()"
   ]
  },
  {
   "cell_type": "code",
   "execution_count": 41,
   "metadata": {},
   "outputs": [
    {
     "data": {
      "text/plain": [
       "[<Item title:\"Záplavové území Q5 - Praha\" type:Feature Layer Collection owner:Marketa.Brunclikova>,\n",
       " <Item title:\"Záplavové území Q20 - Praha\" type:Feature Layer Collection owner:Marketa.Brunclikova>,\n",
       " <Item title:\"Záplavové území Q100 - Praha\" type:Feature Layer Collection owner:Marketa.Brunclikova>,\n",
       " <Item title:\"aktivní zóna záplavového území_view\" type:Feature Layer Collection owner:jan_malek>,\n",
       " <Item title:\"Záplavové území největší zaznamenané přirozené povodně - Praha\" type:Feature Layer Collection owner:Marketa.Brunclikova>]"
      ]
     },
     "execution_count": 41,
     "metadata": {},
     "output_type": "execute_result"
    }
   ],
   "source": [
    "zaplavy_search = gis.content.search(\"Záplavové území\", item_type= \"Feature Layer\", max_items=10)\n",
    "zaplavy_search"
   ]
  },
  {
   "cell_type": "code",
   "execution_count": 42,
   "metadata": {},
   "outputs": [
    {
     "data": {
      "text/html": [
       "<div class=\"item_container\" style=\"height: auto; overflow: hidden; border: 1px solid #cfcfcf; border-radius: 2px; background: #f6fafa; line-height: 1.21429em; padding: 10px;\">\n",
       "                    <div class=\"item_left\" style=\"width: 210px; float: left;\">\n",
       "                       <a href='https://www.arcgis.com/home/item.html?id=ae22412ea82a4fc9979f2532e45fc884' target='_blank'>\n",
       "                        <img src='https://www.arcgis.com/sharing/rest//content/items/ae22412ea82a4fc9979f2532e45fc884/info/thumbnail/ago_downloaded.png' class=\"itemThumbnail\">\n",
       "                       </a>\n",
       "                    </div>\n",
       "\n",
       "                    <div class=\"item_right\"     style=\"float: none; width: auto; overflow: hidden;\">\n",
       "                        <a href='https://www.arcgis.com/home/item.html?id=ae22412ea82a4fc9979f2532e45fc884' target='_blank'><b>Záplavové území Q5 - Praha</b>\n",
       "                        </a>\n",
       "                        <br/>Vrstva prvků vygenerovaná řešením Překrýt vrstvy<img src='https://www.arcgis.com/home/js/jsapi/esri/css/images/item_type_icons/featureshosted16.png' style=\"vertical-align:middle;\">Feature Layer Collection by Marketa.Brunclikova\n",
       "                        <br/>Last Modified: listopad 09, 2017\n",
       "                        <br/>0 comments, 161 views\n",
       "                    </div>\n",
       "                </div>\n",
       "                "
      ],
      "text/plain": [
       "<Item title:\"Záplavové území Q5 - Praha\" type:Feature Layer Collection owner:Marketa.Brunclikova>"
      ]
     },
     "metadata": {},
     "output_type": "display_data"
    },
    {
     "data": {
      "text/html": [
       "<div class=\"item_container\" style=\"height: auto; overflow: hidden; border: 1px solid #cfcfcf; border-radius: 2px; background: #f6fafa; line-height: 1.21429em; padding: 10px;\">\n",
       "                    <div class=\"item_left\" style=\"width: 210px; float: left;\">\n",
       "                       <a href='https://www.arcgis.com/home/item.html?id=48c99879553c4fd9983eeb750c8ba492' target='_blank'>\n",
       "                        <img src='https://www.arcgis.com/sharing/rest//content/items/48c99879553c4fd9983eeb750c8ba492/info/thumbnail/ago_downloaded.png' class=\"itemThumbnail\">\n",
       "                       </a>\n",
       "                    </div>\n",
       "\n",
       "                    <div class=\"item_right\"     style=\"float: none; width: auto; overflow: hidden;\">\n",
       "                        <a href='https://www.arcgis.com/home/item.html?id=48c99879553c4fd9983eeb750c8ba492' target='_blank'><b>Záplavové území Q20 - Praha</b>\n",
       "                        </a>\n",
       "                        <br/>Vrstva prvků vygenerovaná řešením Překrýt vrstvy<img src='https://www.arcgis.com/home/js/jsapi/esri/css/images/item_type_icons/featureshosted16.png' style=\"vertical-align:middle;\">Feature Layer Collection by Marketa.Brunclikova\n",
       "                        <br/>Last Modified: listopad 09, 2017\n",
       "                        <br/>0 comments, 169 views\n",
       "                    </div>\n",
       "                </div>\n",
       "                "
      ],
      "text/plain": [
       "<Item title:\"Záplavové území Q20 - Praha\" type:Feature Layer Collection owner:Marketa.Brunclikova>"
      ]
     },
     "metadata": {},
     "output_type": "display_data"
    },
    {
     "data": {
      "text/html": [
       "<div class=\"item_container\" style=\"height: auto; overflow: hidden; border: 1px solid #cfcfcf; border-radius: 2px; background: #f6fafa; line-height: 1.21429em; padding: 10px;\">\n",
       "                    <div class=\"item_left\" style=\"width: 210px; float: left;\">\n",
       "                       <a href='https://www.arcgis.com/home/item.html?id=c4f8b39e78944e6bb93614b6a20d686f' target='_blank'>\n",
       "                        <img src='https://www.arcgis.com/sharing/rest//content/items/c4f8b39e78944e6bb93614b6a20d686f/info/thumbnail/ago_downloaded.png' class=\"itemThumbnail\">\n",
       "                       </a>\n",
       "                    </div>\n",
       "\n",
       "                    <div class=\"item_right\"     style=\"float: none; width: auto; overflow: hidden;\">\n",
       "                        <a href='https://www.arcgis.com/home/item.html?id=c4f8b39e78944e6bb93614b6a20d686f' target='_blank'><b>Záplavové území Q100 - Praha</b>\n",
       "                        </a>\n",
       "                        <br/>Vrstva prvků vygenerovaná řešením Překrýt vrstvy<img src='https://www.arcgis.com/home/js/jsapi/esri/css/images/item_type_icons/featureshosted16.png' style=\"vertical-align:middle;\">Feature Layer Collection by Marketa.Brunclikova\n",
       "                        <br/>Last Modified: listopad 09, 2017\n",
       "                        <br/>0 comments, 154 views\n",
       "                    </div>\n",
       "                </div>\n",
       "                "
      ],
      "text/plain": [
       "<Item title:\"Záplavové území Q100 - Praha\" type:Feature Layer Collection owner:Marketa.Brunclikova>"
      ]
     },
     "metadata": {},
     "output_type": "display_data"
    },
    {
     "data": {
      "text/html": [
       "<div class=\"item_container\" style=\"height: auto; overflow: hidden; border: 1px solid #cfcfcf; border-radius: 2px; background: #f6fafa; line-height: 1.21429em; padding: 10px;\">\n",
       "                    <div class=\"item_left\" style=\"width: 210px; float: left;\">\n",
       "                       <a href='https://www.arcgis.com/home/item.html?id=fb7ac78b64b24ea3aa3e3e8eae82f788' target='_blank'>\n",
       "                        <img src='https://www.arcgis.com/sharing/rest//content/items/fb7ac78b64b24ea3aa3e3e8eae82f788/info/thumbnail/ago_downloaded.gif' class=\"itemThumbnail\">\n",
       "                       </a>\n",
       "                    </div>\n",
       "\n",
       "                    <div class=\"item_right\"     style=\"float: none; width: auto; overflow: hidden;\">\n",
       "                        <a href='https://www.arcgis.com/home/item.html?id=fb7ac78b64b24ea3aa3e3e8eae82f788' target='_blank'><b>aktivní zóna záplavového území_view</b>\n",
       "                        </a>\n",
       "                        <br/>AZZU<img src='https://www.arcgis.com/home/js/jsapi/esri/css/images/item_type_icons/featureshosted16.png' style=\"vertical-align:middle;\">Feature Layer Collection by jan_malek\n",
       "                        <br/>Last Modified: březen 13, 2019\n",
       "                        <br/>0 comments, 37 views\n",
       "                    </div>\n",
       "                </div>\n",
       "                "
      ],
      "text/plain": [
       "<Item title:\"aktivní zóna záplavového území_view\" type:Feature Layer Collection owner:jan_malek>"
      ]
     },
     "metadata": {},
     "output_type": "display_data"
    },
    {
     "data": {
      "text/html": [
       "<div class=\"item_container\" style=\"height: auto; overflow: hidden; border: 1px solid #cfcfcf; border-radius: 2px; background: #f6fafa; line-height: 1.21429em; padding: 10px;\">\n",
       "                    <div class=\"item_left\" style=\"width: 210px; float: left;\">\n",
       "                       <a href='https://www.arcgis.com/home/item.html?id=ca3976edc8d446f9ae6a470fcfa29867' target='_blank'>\n",
       "                        <img src='https://www.arcgis.com/sharing/rest//content/items/ca3976edc8d446f9ae6a470fcfa29867/info/thumbnail/ago_downloaded.png' class=\"itemThumbnail\">\n",
       "                       </a>\n",
       "                    </div>\n",
       "\n",
       "                    <div class=\"item_right\"     style=\"float: none; width: auto; overflow: hidden;\">\n",
       "                        <a href='https://www.arcgis.com/home/item.html?id=ca3976edc8d446f9ae6a470fcfa29867' target='_blank'><b>Záplavové území největší zaznamenané přirozené povodně - Praha</b>\n",
       "                        </a>\n",
       "                        <br/>Vrstva prvků vygenerovaná řešením Překrýt vrstvy<img src='https://www.arcgis.com/home/js/jsapi/esri/css/images/item_type_icons/featureshosted16.png' style=\"vertical-align:middle;\">Feature Layer Collection by Marketa.Brunclikova\n",
       "                        <br/>Last Modified: listopad 09, 2017\n",
       "                        <br/>0 comments, 155 views\n",
       "                    </div>\n",
       "                </div>\n",
       "                "
      ],
      "text/plain": [
       "<Item title:\"Záplavové území největší zaznamenané přirozené povodně - Praha\" type:Feature Layer Collection owner:Marketa.Brunclikova>"
      ]
     },
     "metadata": {},
     "output_type": "display_data"
    }
   ],
   "source": [
    "from IPython.display import display\n",
    "for item in zaplavy_search:\n",
    "    display(item)"
   ]
  },
  {
   "cell_type": "code",
   "execution_count": 43,
   "metadata": {
    "scrolled": true
   },
   "outputs": [
    {
     "data": {
      "application/vnd.jupyter.widget-view+json": {
       "model_id": "bc6c3a0af7d540abbc69d8d263461069",
       "version_major": 2,
       "version_minor": 0
      },
      "text/plain": [
       "MapView(layout=Layout(height='400px', width='100%'))"
      ]
     },
     "metadata": {},
     "output_type": "display_data"
    },
    {
     "data": {
      "text/html": [
       "<div class=\"map-static-img-preview-aed6e7d7-9197-4888-b96d-e2950fd1f163\"><img src=\"\"></img></div>"
      ],
      "text/plain": [
       "<IPython.core.display.HTML object>"
      ]
     },
     "metadata": {},
     "output_type": "display_data"
    }
   ],
   "source": [
    "map=gis.map(\"Albertov, Praha\")\n",
    "map"
   ]
  },
  {
   "cell_type": "code",
   "execution_count": 44,
   "metadata": {},
   "outputs": [],
   "source": [
    "map.zoom = 15\n",
    "zaplavy = zaplavy_search[0]\n",
    "map.add_layer(zaplavy)"
   ]
  },
  {
   "cell_type": "code",
   "execution_count": null,
   "metadata": {},
   "outputs": [],
   "source": []
  }
 ],
 "metadata": {
  "kernelspec": {
   "display_name": "Python 3",
   "language": "python",
   "name": "python3"
  },
  "language_info": {
   "codemirror_mode": {
    "name": "ipython",
    "version": 3
   },
   "file_extension": ".py",
   "mimetype": "text/x-python",
   "name": "python",
   "nbconvert_exporter": "python",
   "pygments_lexer": "ipython3",
   "version": "3.6.6"
  }
 },
 "nbformat": 4,
 "nbformat_minor": 2
}
